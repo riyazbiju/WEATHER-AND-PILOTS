{
  "nbformat": 4,
  "nbformat_minor": 0,
  "metadata": {
    "colab": {
      "provenance": []
    },
    "kernelspec": {
      "name": "python3",
      "display_name": "Python 3"
    },
    "language_info": {
      "name": "python"
    }
  },
  "cells": [
    {
      "cell_type": "code",
      "execution_count": 1,
      "metadata": {
        "id": "EG4N3xWpTFDg"
      },
      "outputs": [],
      "source": [
        "import pandas as pd\n",
        "import datetime\n",
        "from IPython.display import display, Markdown\n",
        "\n",
        "# --- 1. Load and Prepare the Database ---\n",
        "df_stations = pd.read_csv(\"aerodrome_database.csv\")\n",
        "\n",
        "# Focus on essential columns and clean up\n",
        "df_stations = df_stations[['icao', 'iata', 'name', 'latitude', 'longitude', 'elevation_ft', 'country']]\n",
        "df_stations = df_stations[df_stations['country'] == 'CA'].copy()\n",
        "df_stations['icao'] = df_stations['icao'].str.upper().str.strip()\n",
        "df_stations['iata'] = df_stations['iata'].str.upper().str.strip()\n",
        "\n",
        "# --- 2. Conceptual Data Retrieval Function ---\n",
        "# (Simulates fetching dynamic weather data for a fixed station)\n",
        "def query_wmo_data(date_time: datetime.datetime, station_data: pd.Series) -> dict:\n",
        "    \"\"\"\n",
        "    Simulates querying a large meteorological dataset using a station's static data.\n",
        "    \"\"\"\n",
        "    lat = station_data['latitude']\n",
        "    lon = station_data['longitude']\n",
        "    alt = station_data['elevation_ft']\n",
        "    name = station_data['name']\n",
        "    icao = station_data['icao']\n",
        "\n",
        "    print(f\"\\n--- Processing Query Against WMO-Style Dataset ---\")\n",
        "    print(f\"Searching for data for: {name} ({icao})\")\n",
        "\n",
        "    # Simulate weather conditions based on a simple heuristic (e.g., warmer in the south)\n",
        "    base_temp = 10 + (60 - lat) * 0.5  # Simple temp decrease with higher latitude\n",
        "\n",
        "    simulated_data = {\n",
        "        'WMO_Block_Estimate': 71,  # All Canadian synoptic stations fall in this block\n",
        "        'Time_of_Observation': date_time.strftime('%Y-%m-%d %H:%M UTC'),\n",
        "        'Station_ICAO': icao,\n",
        "        'Station_Name': name,\n",
        "        'Latitude': f\"{lat}°N\",\n",
        "        'Longitude': f\"{lon}°E\",\n",
        "        'Altitude_m': f\"{round(alt * 0.3048, 1)} m\", # Convert feet to meters\n",
        "        'Interpolated_Temperature_C': round(base_temp, 1),\n",
        "        'Interpolated_Pressure_hPa': 1012.3,\n",
        "        'Wind_Speed_ms': 5.2,\n",
        "        'Data_Source': 'Simulated Global Weather Model'\n",
        "    }\n",
        "\n",
        "    return simulated_data"
      ]
    },
    {
      "cell_type": "code",
      "source": [
        "# --- 3. Get User Input (Station and Time) ---\n",
        "\n",
        "# Get Station Identifier\n",
        "while True:\n",
        "    station_id = input(\"Enter Airport ICAO or IATA code (e.g., CYYZ or YYZ): \").strip().upper()\n",
        "\n",
        "    # Try looking up by ICAO first, then IATA\n",
        "    station_match = df_stations[df_stations['icao'] == station_id]\n",
        "    if station_match.empty:\n",
        "        station_match = df_stations[df_stations['iata'] == station_id]\n",
        "\n",
        "    if not station_match.empty:\n",
        "        # Get the first match's data\n",
        "        user_station_data = station_match.iloc[0]\n",
        "        break\n",
        "    else:\n",
        "        print(f\"❌ Station code '{station_id}' not found in the Canadian database. Try 'CYYZ' or 'YUL'.\")\n",
        "\n",
        "\n",
        "# Get Date and Time\n",
        "print(f\"\\n--- Enter Observation Time for {user_station_data['name']} ---\")\n",
        "while True:\n",
        "    try:\n",
        "        date_str = input(\"Enter Date (YYYY-MM-DD): \")\n",
        "        time_str = input(\"Enter Time (HH:MM in 24h format): \")\n",
        "        date_time_str = f\"{date_str} {time_str}\"\n",
        "        user_datetime = datetime.datetime.strptime(date_time_str, '%Y-%m-%d %H:%M')\n",
        "        break\n",
        "    except ValueError:\n",
        "        print(\"❌ Invalid date or time format. Please use YYYY-MM-DD and HH:MM. Try again.\")\n",
        ""
      ],
      "metadata": {
        "colab": {
          "base_uri": "https://localhost:8080/"
        },
        "id": "aIMGopqxUDkX",
        "outputId": "82c484dc-e549-47b8-b833-50aa0ef6395e"
      },
      "execution_count": 2,
      "outputs": [
        {
          "name": "stdout",
          "output_type": "stream",
          "text": [
            "Enter Airport ICAO or IATA code (e.g., CYYZ or YYZ): CYYZ\n",
            "\n",
            "--- Enter Observation Time for Toronto Lester B. Pearson International Airport ---\n",
            "Enter Date (YYYY-MM-DD): 2025-10-01\n",
            "Enter Time (HH:MM in 24h format): 03:35\n"
          ]
        }
      ]
    },
    {
      "cell_type": "code",
      "source": [
        "# --- 4. Execute the Conceptual Query and Display Results ---\n",
        "try:\n",
        "    # Pass the gathered time and static station data to the conceptual function\n",
        "    result_data = query_wmo_data(user_datetime, user_station_data)\n",
        "\n",
        "    # --- Display Results ---\n",
        "    markdown_output = (\n",
        "        \"## ✅ WMO-Style Data Retrieval Summary\\n\"\n",
        "        f\"Query Time: **{datetime.datetime.now().strftime('%Y-%m-%d %H:%M:%S')}**\\n\\n\"\n",
        "        \"| Parameter | Value |\\n\"\n",
        "        \"| :--- | :--- |\\n\"\n",
        "    )\n",
        "\n",
        "    for key, value in result_data.items():\n",
        "        markdown_output += f\"| **{key.replace('_', ' ').title()}** | {value} |\\n\"\n",
        "\n",
        "    display(Markdown(markdown_output))\n",
        "\n",
        "except Exception as e:\n",
        "    # Fallback error message\n",
        "    display(Markdown(f\"## ❌ An Error Occurred\\nAn unexpected error occurred during data processing: `{e}`\"))"
      ],
      "metadata": {
        "colab": {
          "base_uri": "https://localhost:8080/",
          "height": 519
        },
        "id": "pKLT1EPVUVD0",
        "outputId": "d41d6b35-57eb-4cba-f070-589148e05f4d"
      },
      "execution_count": 3,
      "outputs": [
        {
          "output_type": "stream",
          "name": "stdout",
          "text": [
            "\n",
            "--- Processing Query Against WMO-Style Dataset ---\n",
            "Searching for data for: Toronto Lester B. Pearson International Airport (CYYZ)\n"
          ]
        },
        {
          "output_type": "display_data",
          "data": {
            "text/plain": [
              "<IPython.core.display.Markdown object>"
            ],
            "text/markdown": "## ✅ WMO-Style Data Retrieval Summary\nQuery Time: **2025-10-27 15:37:53**\n\n| Parameter | Value |\n| :--- | :--- |\n| **Wmo Block Estimate** | 71 |\n| **Time Of Observation** | 2025-10-01 03:35 UTC |\n| **Station Icao** | CYYZ |\n| **Station Name** | Toronto Lester B. Pearson International Airport |\n| **Latitude** | 43.6772°N |\n| **Longitude** | -79.6306°E |\n| **Altitude M** | 173.4 m |\n| **Interpolated Temperature C** | 18.2 |\n| **Interpolated Pressure Hpa** | 1012.3 |\n| **Wind Speed Ms** | 5.2 |\n| **Data Source** | Simulated Global Weather Model |\n"
          },
          "metadata": {}
        }
      ]
    },
    {
      "cell_type": "code",
      "source": [],
      "metadata": {
        "id": "MWNvqkluUcNh"
      },
      "execution_count": null,
      "outputs": []
    },
    {
      "cell_type": "code",
      "source": [
        "import pandas as pd\n",
        "import numpy as np\n",
        "import datetime\n",
        "from IPython.display import display, Markdown\n",
        "\n",
        "# --- 1. Haversine Distance Function ---\n",
        "def haversine(lat1, lon1, lat2, lon2):\n",
        "    \"\"\"\n",
        "    Calculate the great-circle distance between two points\n",
        "    on the Earth specified in decimal degrees (returns km).\n",
        "    \"\"\"\n",
        "    R = 6371  # Earth radius in kilometers\n",
        "\n",
        "    # Convert degrees to radians\n",
        "    lat1_rad, lon1_rad, lat2_rad, lon2_rad = map(np.radians, [lat1, lon1, lat2, lon2])\n",
        "\n",
        "    dlat = lat2_rad - lat1_rad\n",
        "    dlon = lon2_rad - lon1_rad\n",
        "\n",
        "    a = np.sin(dlat/2)**2 + np.cos(lat1_rad) * np.cos(lat2_rad) * np.sin(dlon/2)**2\n",
        "    c = 2 * R * np.arctan2(np.sqrt(a), np.sqrt(1-a))\n",
        "    return c\n",
        "\n",
        "# --- 2. Conceptual Data Retrieval Function ---\n",
        "def query_wmo_data_arbitrary(date_time: datetime.datetime, latitude: float, longitude: float, altitude: float) -> dict:\n",
        "    \"\"\"\n",
        "    Simulates querying a large, gridded meteorological dataset for arbitrary coordinates.\n",
        "    \"\"\"\n",
        "    print(f\"\\n--- Generating Simulated Weather Data for Arbitrary Point ---\")\n",
        "\n",
        "    # Simulate weather conditions based on a simple heuristic\n",
        "    # Temperature adjustment based on altitude (lapse rate approx 6.5C per 1000m)\n",
        "    alt_km = altitude / 1000.0\n",
        "    base_temp = 15.0  # Base temperature at sea level\n",
        "    temp = base_temp - (alt_km * 6.5)\n",
        "\n",
        "    simulated_data = {\n",
        "        'WMO_Block_Estimate': 71,  # Assuming location is generally North American\n",
        "        'Time_of_Observation': date_time.strftime('%Y-%m-%d %H:%M UTC'),\n",
        "        'Interpolated_Temperature_C': round(temp, 1),\n",
        "        'Interpolated_Pressure_hPa': 1012.0 - (alt_km * 10), # Simple pressure drop\n",
        "        'Wind_Speed_ms': 6.0,\n",
        "        'Total_Precipitation_mm_past_6h': 0.0,\n",
        "        'Data_Source': 'Simulated Global Reanalysis Model'\n",
        "    }\n",
        "\n",
        "    return simulated_data\n",
        "\n",
        "# --- 3. Load and Prepare the Database ---\n",
        "df_stations = pd.read_csv(\"aerodrome_database.csv\")\n",
        "df_stations = df_stations[df_stations['country'] == 'CA'].copy()\n",
        "df_stations.rename(columns={'latitude': 'st_lat', 'longitude': 'st_lon', 'elevation_ft': 'st_alt'}, inplace=True)\n",
        "df_stations['st_alt_m'] = df_stations['st_alt'] * 0.3048"
      ],
      "metadata": {
        "id": "9elGyymHVq9N"
      },
      "execution_count": 4,
      "outputs": []
    },
    {
      "cell_type": "code",
      "source": [
        "# --- 4. Get Arbitrary User Input (t, lat, lon, alt) ---\n",
        "print(\"--- Enter Arbitrary Observation Point ---\")\n",
        "\n",
        "# Get Date and Time\n",
        "while True:\n",
        "    try:\n",
        "        date_str = input(\"Enter Date (YYYY-MM-DD): \")\n",
        "        time_str = input(\"Enter Time (HH:MM in 24h format): \")\n",
        "        date_time_str = f\"{date_str} {time_str}\"\n",
        "        user_datetime = datetime.datetime.strptime(date_time_str, '%Y-%m-%d %H:%M')\n",
        "        break\n",
        "    except ValueError:\n",
        "        print(\"❌ Invalid date or time format. Please use YYYY-MM-DD and HH:MM. Try again.\")\n",
        "\n",
        "# Get Location\n",
        "while True:\n",
        "    try:\n",
        "        user_lat = float(input(\"Enter Latitude (e.g., 50.0): \"))\n",
        "        user_lon = float(input(\"Enter Longitude (e.g., -100.0): \"))\n",
        "        user_alt = float(input(\"Enter Altitude in meters (e.g., 500): \"))\n",
        "\n",
        "        if -90 <= user_lat <= 90 and -180 <= user_lon <= 180:\n",
        "            break\n",
        "        else:\n",
        "            print(\"❌ Invalid latitude or longitude range. Try again.\")\n",
        "    except ValueError:\n",
        "        print(\"❌ Invalid input. Please enter a numerical value for location. Try again.\")"
      ],
      "metadata": {
        "colab": {
          "base_uri": "https://localhost:8080/"
        },
        "id": "WN82XM8nVs1C",
        "outputId": "2115ebd6-0986-40ab-b27a-aae8d17ca884"
      },
      "execution_count": 5,
      "outputs": [
        {
          "name": "stdout",
          "output_type": "stream",
          "text": [
            "--- Enter Arbitrary Observation Point ---\n",
            "Enter Date (YYYY-MM-DD): 2025-10-01\n",
            "Enter Time (HH:MM in 24h format): 03:35\n",
            "Enter Latitude (e.g., 50.0): 35.45\n",
            "Enter Longitude (e.g., -100.0): -97.85\n",
            "Enter Altitude in meters (e.g., 500): 9000\n"
          ]
        }
      ]
    },
    {
      "cell_type": "code",
      "source": [
        "# --- 5. Find Nearest Canadian Station for Context ---\n",
        "print(\"\\n--- Finding Nearest Canadian Aerodrome in CSV Database ---\")\n",
        "\n",
        "# Apply the Haversine calculation\n",
        "df_stations['distance_km'] = haversine(\n",
        "    user_lat, user_lon,\n",
        "    df_stations['st_lat'], df_stations['st_lon']\n",
        ")\n",
        "\n",
        "# Find the station with the minimum distance\n",
        "nearest_station = df_stations.loc[df_stations['distance_km'].idxmin()]\n",
        "dist_km = round(nearest_station['distance_km'], 2)\n",
        "\n",
        "# --- 6. Execute Conceptual Query ---\n",
        "try:\n",
        "    # Run the conceptual weather retrieval using the arbitrary input\n",
        "    weather_data = query_wmo_data_arbitrary(user_datetime, user_lat, user_lon, user_alt)\n",
        "\n",
        "    # --- 7. Display Results ---\n",
        "    markdown_output = (\n",
        "        \"## ✅ WMO-Style Data Retrieval Summary\\n\"\n",
        "        f\"Query Time: **{datetime.datetime.now().strftime('%Y-%m-%d %H:%M:%S')}**\\n\\n\"\n",
        "        \"### Arbitrary Observation Point\\n\"\n",
        "        \"| Parameter | Value |\\n\"\n",
        "        \"| :--- | :--- |\\n\"\n",
        "        f\"| **Latitude** | {user_lat}°N |\\n\"\n",
        "        f\"| **Longitude** | {user_lon}°E |\\n\"\n",
        "        f\"| **Altitude** | {user_alt} m |\\n\"\n",
        "        f\"| **Observation Time (t)** | {user_datetime.strftime('%Y-%m-%d %H:%M UTC')} |\\n\"\n",
        "        \"|---|---|\\n\"\n",
        "\n",
        "        \"### Nearest Reporting Station (from CSV for Context)\\n\"\n",
        "        \"| Parameter | Value |\\n\"\n",
        "        \"| :--- | :--- |\\n\"\n",
        "        f\"| **Station Name** | {nearest_station['name']} ({nearest_station['icao']}) |\\n\"\n",
        "        f\"| **Station Coordinates** | {nearest_station['st_lat']}°N, {nearest_station['st_lon']}°E |\\n\"\n",
        "        f\"| **Distance** | **{dist_km} km** |\\n\"\n",
        "        \"|---|---|\\n\"\n",
        "\n",
        "        \"### Conceptual Weather Data Retrieval\\n\"\n",
        "        \"| Parameter | Value |\\n\"\n",
        "        \"| :--- | :--- |\\n\"\n",
        "    )\n",
        "\n",
        "    for key, value in weather_data.items():\n",
        "        markdown_output += f\"| **{key.replace('_', ' ').title()}** | {value} |\\n\"\n",
        "\n",
        "    display(Markdown(markdown_output))\n",
        "\n",
        "except Exception as e:\n",
        "    # Fallback error message\n",
        "    display(Markdown(f\"## ❌ An Error Occurred\\nAn unexpected error occurred during data processing: `{e}`\"))"
      ],
      "metadata": {
        "colab": {
          "base_uri": "https://localhost:8080/",
          "height": 873
        },
        "id": "1z1O7BUEV9Rj",
        "outputId": "b9cbb244-d2a8-4f09-be0b-d07b60b7d12f"
      },
      "execution_count": 6,
      "outputs": [
        {
          "output_type": "stream",
          "name": "stdout",
          "text": [
            "\n",
            "--- Finding Nearest Canadian Aerodrome in CSV Database ---\n",
            "\n",
            "--- Generating Simulated Weather Data for Arbitrary Point ---\n"
          ]
        },
        {
          "output_type": "display_data",
          "data": {
            "text/plain": [
              "<IPython.core.display.Markdown object>"
            ],
            "text/markdown": "## ✅ WMO-Style Data Retrieval Summary\nQuery Time: **2025-10-27 15:44:57**\n\n### Arbitrary Observation Point\n| Parameter | Value |\n| :--- | :--- |\n| **Latitude** | 35.45°N |\n| **Longitude** | -97.85°E |\n| **Altitude** | 9000.0 m |\n| **Observation Time (t)** | 2025-10-01 03:35 UTC |\n|---|---|\n### Nearest Reporting Station (from CSV for Context)\n| Parameter | Value |\n| :--- | :--- |\n| **Station Name** | Windsor Airport (CYQG) |\n| **Station Coordinates** | 42.27560043334961°N, -82.95559692382812°E |\n| **Distance** | **1493.17 km** |\n|---|---|\n### Conceptual Weather Data Retrieval\n| Parameter | Value |\n| :--- | :--- |\n| **Wmo Block Estimate** | 71 |\n| **Time Of Observation** | 2025-10-01 03:35 UTC |\n| **Interpolated Temperature C** | -43.5 |\n| **Interpolated Pressure Hpa** | 922.0 |\n| **Wind Speed Ms** | 6.0 |\n| **Total Precipitation Mm Past 6H** | 0.0 |\n| **Data Source** | Simulated Global Reanalysis Model |\n"
          },
          "metadata": {}
        }
      ]
    }
  ]
}